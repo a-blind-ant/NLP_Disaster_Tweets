{
 "cells": [
  {
   "cell_type": "code",
   "execution_count": 38,
   "metadata": {},
   "outputs": [],
   "source": [
    "import nltk\n",
    "import pandas as pd\n",
    "from nltk.corpus import stopwords\n",
    "from nltk.tokenize import TweetTokenizer\n",
    "import numpy as np\n",
    "import matplotlib\n",
    "import random"
   ]
  },
  {
   "cell_type": "code",
   "execution_count": 39,
   "metadata": {},
   "outputs": [
    {
     "name": "stdout",
     "output_type": "stream",
     "text": [
      "(['ablaze'], ['sheffield', 'township', 'ohio'], ['deputies', 'man', 'shot', 'brighton', 'home', 'set', 'ablaze', 'http://t.co/gwnrhmso8k'], 1)\n",
      "7613\n"
     ]
    }
   ],
   "source": [
    "df = pd.read_csv('train.csv',sep=',',header=None)\n",
    "#print(df.head())\n",
    "word_tokenize = TweetTokenizer()\n",
    "df = df.fillna('none')\n",
    "X = df.values\n",
    "stop_words = set(stopwords.words(\"english\"))\n",
    "stop_words.add(':')\n",
    "stop_words.add(',')\n",
    "stop_words.add('|')\n",
    "X=X[1:,1:]\n",
    "#data = [(word_tokenize(x[0]),word_tokenize(x[1]),word_tokenize(x[2]),int(x[3])) for x in X]\n",
    "data = []\n",
    "for x in X:\n",
    "    temp=[]\n",
    "    for i in range(1,3):\n",
    "        t = [w.lower() for w in word_tokenize.tokenize(x[i]) if w.casefold() not in stop_words]\n",
    "        temp.append(t)\n",
    "    \n",
    "    data.append(([x[0]],temp[0],temp[1],int(x[3])))\n",
    "\n",
    "print(data[50])\n",
    "print(len(data))\n",
    "random.shuffle(data)"
   ]
  },
  {
   "cell_type": "code",
   "execution_count": 40,
   "metadata": {},
   "outputs": [],
   "source": [
    "all_words = []\n",
    "all_words.append([])\n",
    "all_words.append([])\n",
    "all_words.append([])\n",
    "for x in data:\n",
    "    for i in range(0,3):\n",
    "        all_words[i] = all_words[i] + x[i]\n",
    "\n",
    "keyword_words = nltk.FreqDist(all_words[0])\n",
    "location_words = nltk.FreqDist(all_words[1])\n",
    "text_words = nltk.FreqDist(all_words[2])\n",
    "\n"
   ]
  },
  {
   "cell_type": "code",
   "execution_count": 41,
   "metadata": {},
   "outputs": [],
   "source": [
    "#print(keyword_words.B())  222\n",
    "#print(location_words.B()) 3250\n",
    "#print(text_words.B()) 23027\n",
    "\n",
    "keyword_features = list(keyword_words.keys())[0:150]\n",
    "location_features = list(location_words.keys())[0:2000]\n",
    "text_features = list(text_words.keys())[0:5000]\n",
    "\n",
    "def feature_set(keyword,location,text):\n",
    "    features = {}\n",
    "    i=0\n",
    "    for w in keyword_features:\n",
    "        features[i] = ((w.casefold() in keyword))\n",
    "        i=i+1\n",
    "    for w in location_features:\n",
    "        features[i] = ((w.casefold() in location))\n",
    "        i=i+1\n",
    "    for w in text_features:\n",
    "        features[i] = ((w.casefold() in text))\n",
    "        i=i+1\n",
    "    return features\n",
    "        \n",
    "    \n"
   ]
  },
  {
   "cell_type": "code",
   "execution_count": 42,
   "metadata": {},
   "outputs": [],
   "source": [
    "featureset = [(feature_set(x[0],x[1],x[2]),x[3]) for x in data]\n",
    "training_set = featureset[0:6000]\n",
    "test_set = featureset[6000:]\n"
   ]
  },
  {
   "cell_type": "code",
   "execution_count": 43,
   "metadata": {},
   "outputs": [
    {
     "name": "stdout",
     "output_type": "stream",
     "text": [
      "Naive Bayes Accuracy :  79.97520148791072\n",
      "Most Informative Features\n",
      "                    3308 = True                1 : 0      =     46.1 : 1.0\n",
      "                    2314 = True                1 : 0      =     45.3 : 1.0\n",
      "                    6541 = True                1 : 0      =     40.0 : 1.0\n",
      "                    3168 = True                1 : 0      =     32.2 : 1.0\n",
      "                    2497 = True                1 : 0      =     31.2 : 1.0\n",
      "                    2544 = True                1 : 0      =     31.2 : 1.0\n",
      "                    3887 = True                1 : 0      =     31.2 : 1.0\n",
      "                    2253 = True                1 : 0      =     30.3 : 1.0\n",
      "                       9 = True                1 : 0      =     30.3 : 1.0\n",
      "                    2313 = True                1 : 0      =     29.8 : 1.0\n"
     ]
    }
   ],
   "source": [
    "classifier = nltk.NaiveBayesClassifier.train(training_set)\n",
    "print(\"Naive Bayes Accuracy : \", nltk.classify.accuracy(classifier,test_set)*100 )\n",
    "classifier.show_most_informative_features()"
   ]
  }
 ],
 "metadata": {
  "kernelspec": {
   "display_name": "Python 3",
   "language": "python",
   "name": "python3"
  },
  "language_info": {
   "codemirror_mode": {
    "name": "ipython",
    "version": 3
   },
   "file_extension": ".py",
   "mimetype": "text/x-python",
   "name": "python",
   "nbconvert_exporter": "python",
   "pygments_lexer": "ipython3",
   "version": "3.7.4"
  }
 },
 "nbformat": 4,
 "nbformat_minor": 2
}
